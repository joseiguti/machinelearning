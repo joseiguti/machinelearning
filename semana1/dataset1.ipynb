{
 "cells": [
  {
   "cell_type": "code",
   "execution_count": 8,
   "outputs": [
    {
     "name": "stdout",
     "output_type": "stream",
     "text": [
      "Valores perdidos:\n",
      "ID de Venta           0\n",
      "Producto              0\n",
      "Cantidad              0\n",
      "Precio Unitario       7\n",
      "Fecha de Venta        0\n",
      "Estado de la Venta    3\n",
      "dtype: int64\n"
     ]
    }
   ],
   "source": [
    "import pandas as pd\n",
    "\n",
    "productos_validos = ['Mouse', 'Teclado']\n",
    "\n",
    "# Cargar datos\n",
    "df = pd.read_csv(\"data.csv\")\n",
    "\n",
    "# Verificar valores perdidos\n",
    "'''\n",
    "Verificar si hay valores perdidos en las columnas y decidir cómo manejarlos\n",
    "(eliminar las filas, rellenar con valores por defecto, etc.).\n",
    "'''\n",
    "print(\"Valores perdidos:\")\n",
    "print(df.isnull().sum())"
   ],
   "metadata": {
    "collapsed": false,
    "ExecuteTime": {
     "start_time": "2023-05-10T23:54:47.430125Z",
     "end_time": "2023-05-10T23:54:47.439408Z"
    }
   }
  },
  {
   "cell_type": "code",
   "execution_count": 9,
   "outputs": [
    {
     "name": "stdout",
     "output_type": "stream",
     "text": [
      "Clases de estado de venta:\n",
      "Estado de la Venta\n",
      "Completada    8\n",
      "En Proceso    4\n",
      "Cancelada     3\n",
      "Name: count, dtype: int64\n"
     ]
    }
   ],
   "source": [
    "# Eliminar filas con valores perdidos\n",
    "df = df.dropna()\n",
    "\n",
    "# Tratar valores especiales. Elimino las filas que en estas columnas\n",
    "# sus valores sean diferentes a numero positivos\n",
    "df = df[(df[\"Cantidad\"] > 0) & (df[\"Precio Unitario\"] > 0)]\n",
    "\n",
    "# Eliminar filas duplicadas\n",
    "df = df.drop_duplicates()\n",
    "\n",
    "# Corregir errores tipográficos\n",
    "df[\"Producto\"] = df[\"Producto\"].str.strip()  # Eliminar espacios en blanco al inicio y final\n",
    "\n",
    "# Verificar clases mal etiquetadas\n",
    "print(\"Clases de estado de venta:\")\n",
    "print(df[\"Estado de la Venta\"].value_counts())"
   ],
   "metadata": {
    "collapsed": false,
    "ExecuteTime": {
     "start_time": "2023-05-10T23:54:47.445697Z",
     "end_time": "2023-05-10T23:54:47.448102Z"
    }
   }
  },
  {
   "cell_type": "code",
   "execution_count": 10,
   "outputs": [
    {
     "name": "stdout",
     "output_type": "stream",
     "text": [
      "2     Auriculares\n",
      "4        Pendrive\n",
      "7           Ratón\n",
      "10        Monitor\n",
      "13          Ratón\n",
      "15        Monitor\n",
      "19          Ratón\n",
      "20        Monitor\n",
      "21    Auriculares\n",
      "Name: Producto, dtype: object\n"
     ]
    }
   ],
   "source": [
    "# Filtrar valores que no están en la lista de nombres válidos\n",
    "df_errores_tipograficos = df[~df['Producto'].isin(productos_validos)]\n",
    "\n",
    "# Imprimir los valores que podrían ser errores tipográficos\n",
    "print(df_errores_tipograficos['Producto'])"
   ],
   "metadata": {
    "collapsed": false,
    "ExecuteTime": {
     "start_time": "2023-05-10T23:54:47.450180Z",
     "end_time": "2023-05-10T23:54:47.453639Z"
    }
   }
  },
  {
   "cell_type": "code",
   "execution_count": 11,
   "outputs": [
    {
     "name": "stdout",
     "output_type": "stream",
     "text": [
      "DataFrame limpio:\n",
      "    ID de Venta Producto  Cantidad  Precio Unitario Fecha de Venta   \n",
      "0             1    Mouse         2             25.0     2022-01-15  \\\n",
      "1             2  Teclado         1             30.0     2022-02-10   \n",
      "11           12  Teclado         2             35.0     2022-12-15   \n",
      "16           17  Teclado         1             40.0     2023-05-01   \n",
      "22           23  Teclado         1             38.0     2023-11-15   \n",
      "24           25    Mouse         3             28.0     2024-01-25   \n",
      "\n",
      "   Estado de la Venta  \n",
      "0          Completada  \n",
      "1          Completada  \n",
      "11          Cancelada  \n",
      "16         Completada  \n",
      "22          Cancelada  \n",
      "24         Completada  \n"
     ]
    }
   ],
   "source": [
    "# Eliminar esos valores que no estaban en esa lista\n",
    "df = df.drop(df_errores_tipograficos.index)\n",
    "\n",
    "# Imprimir el DataFrame limpio\n",
    "print(\"DataFrame limpio:\")\n",
    "print(df)"
   ],
   "metadata": {
    "collapsed": false,
    "ExecuteTime": {
     "start_time": "2023-05-10T23:54:47.454986Z",
     "end_time": "2023-05-10T23:54:47.458461Z"
    }
   }
  }
 ],
 "metadata": {
  "kernelspec": {
   "display_name": "Python 3",
   "language": "python",
   "name": "python3"
  },
  "language_info": {
   "codemirror_mode": {
    "name": "ipython",
    "version": 2
   },
   "file_extension": ".py",
   "mimetype": "text/x-python",
   "name": "python",
   "nbconvert_exporter": "python",
   "pygments_lexer": "ipython2",
   "version": "2.7.6"
  }
 },
 "nbformat": 4,
 "nbformat_minor": 0
}
