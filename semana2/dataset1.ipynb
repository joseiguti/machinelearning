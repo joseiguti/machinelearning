{
 "cells": [
  {
   "cell_type": "code",
   "execution_count": 427,
   "metadata": {
    "collapsed": true,
    "ExecuteTime": {
     "end_time": "2023-05-20T02:36:57.944536Z",
     "start_time": "2023-05-20T02:36:46.002017Z"
    }
   },
   "outputs": [
    {
     "name": "stdout",
     "output_type": "stream",
     "text": [
      "Rows: 73268\n",
      "Columns: 79\n"
     ]
    }
   ],
   "source": [
    "# Import enough libraries for initialize de dataset. \n",
    "import pandas as pd\n",
    "import re\n",
    "\n",
    "# Load the data from the csv file.\n",
    "df = pd.read_csv('https://joseiguti.com/machinelearning/survey_results_public.csv')\n",
    "\n",
    "# How many rows and columns we have\n",
    "print(\"Rows:\", df.shape[0])\n",
    "print(\"Columns:\", df.shape[1])"
   ]
  },
  {
   "cell_type": "code",
   "execution_count": 428,
   "outputs": [],
   "source": [
    "# We define a function to handle specially cases like age, because we don't have a specific age by every record. So, will try to make a prom by every record based on the min value and max value.\n",
    "def extract_age(text):\n",
    "    pattern = r'(\\d+)-(\\d+) years old'\n",
    "    match = re.match(pattern, str(text))\n",
    "    if match:\n",
    "        start_age = int(match.group(1))\n",
    "        end_age = int(match.group(2))\n",
    "        return (start_age + end_age) // 2\n",
    "    return None\n",
    "\n",
    "# We apply the same procedure to handle how many people there are in the organization where developer works.\n",
    "def extract_num_of_employees(text):\n",
    "    pattern = r'(\\d+(?:,\\d+)?)\\s?to\\s?(\\d+(?:,\\d+)?)'\n",
    "    match = re.match(pattern, text)\n",
    "    if match:\n",
    "        start_value = int(match.group(1).replace(',', ''))\n",
    "        end_value = int(match.group(2).replace(',', ''))\n",
    "        return (start_value + end_value) // 2\n",
    "    return None\n",
    "\n",
    "pd.set_option('display.float_format', '{:.0f}'.format)"
   ],
   "metadata": {
    "collapsed": false,
    "ExecuteTime": {
     "end_time": "2023-05-20T02:36:57.947612Z",
     "start_time": "2023-05-20T02:36:57.945085Z"
    }
   }
  },
  {
   "cell_type": "code",
   "execution_count": 429,
   "outputs": [
    {
     "name": "stdout",
     "output_type": "stream",
     "text": [
      "            Employment              Age Gender Ethnicity  \\\n",
      "0                  NaN              NaN    NaN       NaN   \n",
      "1  Employed, full-time              NaN    NaN       NaN   \n",
      "2  Employed, full-time  25-34 years old    Man     White   \n",
      "3  Employed, full-time  35-44 years old    Man     White   \n",
      "4  Employed, full-time  25-34 years old    NaN       NaN   \n",
      "\n",
      "                             RemoteWork  \\\n",
      "0                                   NaN   \n",
      "1                          Fully remote   \n",
      "2  Hybrid (some remote, some in-person)   \n",
      "3                          Fully remote   \n",
      "4  Hybrid (some remote, some in-person)   \n",
      "\n",
      "                           CodingActivities  \\\n",
      "0                                       NaN   \n",
      "1  Hobby;Contribute to open-source projects   \n",
      "2                                     Hobby   \n",
      "3              I don’t code outside of work   \n",
      "4                                     Hobby   \n",
      "\n",
      "                                           EdLevel YearsCode YearsCodePro  \\\n",
      "0                                              NaN       NaN          NaN   \n",
      "1                                              NaN       NaN          NaN   \n",
      "2  Master’s degree (M.A., M.S., M.Eng., MBA, etc.)        14            5   \n",
      "3     Bachelor’s degree (B.A., B.S., B.Eng., etc.)        20           17   \n",
      "4     Bachelor’s degree (B.A., B.S., B.Eng., etc.)         8            3   \n",
      "\n",
      "                                             DevType               OrgSize  \\\n",
      "0                                                NaN                   NaN   \n",
      "1                                                NaN                   NaN   \n",
      "2  Data scientist or machine learning specialist;...    20 to 99 employees   \n",
      "3                              Developer, full-stack  100 to 499 employees   \n",
      "4  Developer, front-end;Developer, full-stack;Dev...    20 to 99 employees   \n",
      "\n",
      "                                             Country  ConvertedCompYearly  \\\n",
      "0                                                NaN                  NaN   \n",
      "1                                             Canada                  NaN   \n",
      "2  United Kingdom of Great Britain and Northern I...                40205   \n",
      "3                                             Israel               215232   \n",
      "4                           United States of America                  NaN   \n",
      "\n",
      "                        LanguageHaveWorkedWith  \\\n",
      "0                                          NaN   \n",
      "1                        JavaScript;TypeScript   \n",
      "2            C#;C++;HTML/CSS;JavaScript;Python   \n",
      "3                 C#;JavaScript;SQL;TypeScript   \n",
      "4  C#;HTML/CSS;JavaScript;SQL;Swift;TypeScript   \n",
      "\n",
      "                              DatabaseHaveWorkedWith  \\\n",
      "0                                                NaN   \n",
      "1                                                NaN   \n",
      "2                               Microsoft SQL Server   \n",
      "3                               Microsoft SQL Server   \n",
      "4  Cloud Firestore;Elasticsearch;Microsoft SQL Se...   \n",
      "\n",
      "     PlatformHaveWorkedWith                        WebframeHaveWorkedWith  \\\n",
      "0                       NaN                                           NaN   \n",
      "1                       NaN                                           NaN   \n",
      "2                       NaN                                    Angular.js   \n",
      "3                       NaN                         ASP.NET;ASP.NET Core    \n",
      "4  Firebase;Microsoft Azure  Angular;ASP.NET;ASP.NET Core ;jQuery;Node.js   \n",
      "\n",
      "  OpSysProfessional use  \n",
      "0                   NaN  \n",
      "1                 macOS  \n",
      "2               Windows  \n",
      "3               Windows  \n",
      "4               Windows  \n"
     ]
    }
   ],
   "source": [
    "# Trying to delete duplicated records.\n",
    "df = df.drop_duplicates()\n",
    "\n",
    "# We set a list of columns we want to process.\n",
    "desired_columns = ['Employment', 'Age', 'Gender', 'Ethnicity', 'RemoteWork', 'CodingActivities', 'EdLevel', 'YearsCode', 'YearsCodePro', 'DevType', 'OrgSize', 'Country', 'ConvertedCompYearly', 'LanguageHaveWorkedWith', 'DatabaseHaveWorkedWith', 'PlatformHaveWorkedWith','WebframeHaveWorkedWith', 'OpSysProfessional use']\n",
    "\n",
    "# We reset old data with new no segregated data\n",
    "df = df.loc[:, desired_columns]\n",
    "\n",
    "# We show some records we have, only the first five ones\n",
    "print(df.head(5))"
   ],
   "metadata": {
    "collapsed": false,
    "ExecuteTime": {
     "end_time": "2023-05-20T02:36:58.405434Z",
     "start_time": "2023-05-20T02:36:57.949147Z"
    }
   }
  },
  {
   "cell_type": "code",
   "execution_count": 430,
   "outputs": [
    {
     "name": "stdout",
     "output_type": "stream",
     "text": [
      "[nan '25-34 years old' '35-44 years old' 'Under 18 years old'\n",
      " '18-24 years old' '45-54 years old' '55-64 years old' '65 years or older'\n",
      " 'Prefer not to say']\n"
     ]
    }
   ],
   "source": [
    "# Because we don't know all the values are correct to be processed, we look at the unique values for that column to check it.\n",
    "datos_agrupados = df['Age'].unique()\n",
    "\n",
    "print(datos_agrupados)"
   ],
   "metadata": {
    "collapsed": false,
    "ExecuteTime": {
     "end_time": "2023-05-20T02:36:58.411483Z",
     "start_time": "2023-05-20T02:36:58.408463Z"
    }
   }
  },
  {
   "cell_type": "code",
   "execution_count": 431,
   "outputs": [
    {
     "name": "stdout",
     "output_type": "stream",
     "text": [
      "['0-0 years old' '25-34 years old' '35-44 years old' '17-17 years old'\n",
      " '18-24 years old' '45-54 years old' '55-64 years old' '65-65 years old']\n"
     ]
    }
   ],
   "source": [
    "# Trying to clean and prepare the data to be processed, setting it in a right format that function accepts.\n",
    "df['Age'] = df['Age'].replace(\n",
    "    [pd.NaT, 'Under 18 years old', '65 years or older', 'Prefer not to say'],\n",
    "    ['0-0 years old', '17-17 years old', '65-65 years old', '0-0 years old'])\n",
    "\n",
    "# We ensure about the changes.\n",
    "datos_agrupados = df['Age'].unique()\n",
    "\n",
    "print(datos_agrupados)"
   ],
   "metadata": {
    "collapsed": false,
    "ExecuteTime": {
     "end_time": "2023-05-20T02:36:58.458261Z",
     "start_time": "2023-05-20T02:36:58.415413Z"
    }
   }
  },
  {
   "cell_type": "code",
   "execution_count": 432,
   "outputs": [
    {
     "name": "stdout",
     "output_type": "stream",
     "text": [
      "[ 0 29 39 17 21 49 59 65]\n"
     ]
    }
   ],
   "source": [
    "# Son we apply the function to extract the age\n",
    "df['Age'] = df['Age'].apply(extract_age)\n",
    "\n",
    "# We convert the age to int value\n",
    "df['Age'] = df['Age'].astype(int)\n",
    "\n",
    "# We ensure about the changes and print it\n",
    "datos_agrupados = df['Age'].unique()\n",
    "\n",
    "print(datos_agrupados)"
   ],
   "metadata": {
    "collapsed": false,
    "ExecuteTime": {
     "end_time": "2023-05-20T02:36:58.519111Z",
     "start_time": "2023-05-20T02:36:58.474023Z"
    }
   }
  },
  {
   "cell_type": "markdown",
   "source": [],
   "metadata": {
    "collapsed": false
   }
  },
  {
   "cell_type": "code",
   "execution_count": 433,
   "outputs": [
    {
     "name": "stdout",
     "output_type": "stream",
     "text": [
      "[    0    59   299     1     5  7499  2999 10000   749    14]\n"
     ]
    }
   ],
   "source": [
    "# We apply the same process for the column OrgSize.\n",
    "df['OrgSize'] = df['OrgSize'].replace(\n",
    "    [pd.NaT, 'I don’t know', 'Just me - I am a freelancer, sole proprietor, etc.','10,000 or more employees'],\n",
    "    ['0 to 0 employees', '0 to 0 employees', '1 to 1 employees','10,000 to 10,000 employees'])\n",
    "\n",
    "# Aplicar la función de extracción de empleados a la columna 'OrgSize'\n",
    "df['OrgSize'] = df['OrgSize'].apply(extract_num_of_employees)\n",
    "\n",
    "datos_agrupados = df['OrgSize'].unique()\n",
    "\n",
    "print(datos_agrupados)"
   ],
   "metadata": {
    "collapsed": false,
    "ExecuteTime": {
     "end_time": "2023-05-20T02:36:58.635965Z",
     "start_time": "2023-05-20T02:36:58.522394Z"
    }
   }
  },
  {
   "cell_type": "markdown",
   "source": [],
   "metadata": {
    "collapsed": false
   }
  },
  {
   "cell_type": "code",
   "execution_count": 434,
   "outputs": [
    {
     "name": "stdout",
     "output_type": "stream",
     "text": [
      "Age                       30\n",
      "YearsCode                 12\n",
      "YearsCodePro               7\n",
      "OrgSize                 1488\n",
      "ConvertedCompYearly   170761\n",
      "dtype: float64\n"
     ]
    }
   ],
   "source": [
    "# We select only the integer ones columns in the dataset, and storage it in a new var.\n",
    "# We want to work only with this data to calculate values as mean, median and mode\n",
    "data_numeric = df.select_dtypes(include='number')\n",
    "\n",
    "media = data_numeric.mean(numeric_only=True)\n",
    "\n",
    "# Cleaning and setting right values for YearsCode\n",
    "df['YearsCode'] = df['YearsCode'].replace(\n",
    "    [pd.NaT, 'More than 50 years', 'Less than 1 year'],\n",
    "    ['0', '0', '0'])\n",
    "\n",
    "df['YearsCode'] = df['YearsCode'].astype(int)\n",
    "\n",
    "# Cleaning and setting right values for YearsCodePro\n",
    "df['YearsCodePro'] = df['YearsCodePro'].replace(\n",
    "    [pd.NaT, 'More than 50 years', 'Less than 1 year'],\n",
    "    ['0', '0', '0'])\n",
    "\n",
    "df['YearsCodePro'] = df['YearsCodePro'].astype(int)\n",
    "\n",
    "data_numeric = df.select_dtypes(include='number')\n",
    "\n",
    "# Finally we print the media data\n",
    "media = data_numeric.mean(numeric_only=True)\n",
    "\n",
    "print(media)\n",
    "\n"
   ],
   "metadata": {
    "collapsed": false,
    "ExecuteTime": {
     "end_time": "2023-05-20T02:36:58.687447Z",
     "start_time": "2023-05-20T02:36:58.638377Z"
    }
   }
  },
  {
   "cell_type": "code",
   "execution_count": 435,
   "outputs": [
    {
     "name": "stdout",
     "output_type": "stream",
     "text": [
      "Age                      29\n",
      "YearsCode                 9\n",
      "YearsCodePro              4\n",
      "OrgSize                  59\n",
      "ConvertedCompYearly   67845\n",
      "dtype: float64\n"
     ]
    }
   ],
   "source": [
    "# Finally we print the median data\n",
    "media = data_numeric.median()\n",
    "\n",
    "print(media)"
   ],
   "metadata": {
    "collapsed": false,
    "ExecuteTime": {
     "end_time": "2023-05-20T02:36:58.694820Z",
     "start_time": "2023-05-20T02:36:58.687086Z"
    }
   }
  },
  {
   "cell_type": "code",
   "execution_count": 436,
   "outputs": [
    {
     "name": "stdout",
     "output_type": "stream",
     "text": [
      "   Age  YearsCode  YearsCodePro  OrgSize  ConvertedCompYearly\n",
      "0   29         10             0        0               150000\n"
     ]
    }
   ],
   "source": [
    "# Finally we print the mode data\n",
    "media = data_numeric.mode()\n",
    "\n",
    "print(media)"
   ],
   "metadata": {
    "collapsed": false,
    "ExecuteTime": {
     "end_time": "2023-05-20T02:36:58.703972Z",
     "start_time": "2023-05-20T02:36:58.699938Z"
    }
   }
  },
  {
   "cell_type": "code",
   "execution_count": 437,
   "outputs": [],
   "source": [
    "# Finally we save all the modified data in a new csv file.\n",
    "df.to_csv('dataset1_cleaned.csv', index=False)"
   ],
   "metadata": {
    "collapsed": false,
    "ExecuteTime": {
     "end_time": "2023-05-20T02:36:59.292504Z",
     "start_time": "2023-05-20T02:36:58.703462Z"
    }
   }
  }
 ],
 "metadata": {
  "kernelspec": {
   "display_name": "Python 3",
   "language": "python",
   "name": "python3"
  },
  "language_info": {
   "codemirror_mode": {
    "name": "ipython",
    "version": 2
   },
   "file_extension": ".py",
   "mimetype": "text/x-python",
   "name": "python",
   "nbconvert_exporter": "python",
   "pygments_lexer": "ipython2",
   "version": "2.7.6"
  }
 },
 "nbformat": 4,
 "nbformat_minor": 0
}
